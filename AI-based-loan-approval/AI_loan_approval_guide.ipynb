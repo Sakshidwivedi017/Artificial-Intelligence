{
 "cells": [
  {
   "cell_type": "code",
   "execution_count": 1,
   "id": "d7506ee6-d593-444d-a80b-5a27fd54c32e",
   "metadata": {},
   "outputs": [],
   "source": [
    "#Impoting all the libraries\n",
    "import pandas as pd\n",
    "import numpy as np\n",
    "import sklearn\n",
    "from sklearn.model_selection import train_test_split\n",
    "import xgboost as xgb\n",
    "import matplotlib.pyplot as plt\n",
    "import seaborn as sns"
   ]
  },
  {
   "cell_type": "code",
   "execution_count": 2,
   "id": "f42ef26c-9345-4695-be89-1c5e5981db62",
   "metadata": {},
   "outputs": [
    {
     "name": "stdout",
     "output_type": "stream",
     "text": [
      "     self_employed  income_annum  loan_amount  cibil_score  \\\n",
      "0               No       9600000     29900000          778   \n",
      "1              Yes       4100000     12200000          417   \n",
      "2               No       9100000     29700000          506   \n",
      "3               No       8200000     30700000          467   \n",
      "4              Yes       9800000     24200000          382   \n",
      "...            ...           ...          ...          ...   \n",
      "4264           Yes       1000000      2300000          317   \n",
      "4265           Yes       3300000     11300000          559   \n",
      "4266            No       6500000     23900000          457   \n",
      "4267            No       4100000     12800000          780   \n",
      "4268            No       9200000     29700000          607   \n",
      "\n",
      "      residential_assets_value  commercial_assets_value  luxury_assets_value  \\\n",
      "0                      2400000                 17600000             22700000   \n",
      "1                      2700000                  2200000              8800000   \n",
      "2                      7100000                  4500000             33300000   \n",
      "3                     18200000                  3300000             23300000   \n",
      "4                     12400000                  8200000             29400000   \n",
      "...                        ...                      ...                  ...   \n",
      "4264                   2800000                   500000              3300000   \n",
      "4265                   4200000                  2900000             11000000   \n",
      "4266                   1200000                 12400000             18100000   \n",
      "4267                   8200000                   700000             14100000   \n",
      "4268                  17800000                 11800000             35700000   \n",
      "\n",
      "      bank_asset_value loan_status  \n",
      "0              8000000    Approved  \n",
      "1              3300000    Rejected  \n",
      "2             12800000    Rejected  \n",
      "3              7900000    Rejected  \n",
      "4              5000000    Rejected  \n",
      "...                ...         ...  \n",
      "4264            800000    Rejected  \n",
      "4265           1900000    Approved  \n",
      "4266           7300000    Rejected  \n",
      "4267           5800000    Approved  \n",
      "4268          12000000    Approved  \n",
      "\n",
      "[4269 rows x 9 columns]\n"
     ]
    }
   ],
   "source": [
    "#load the data\n",
    "path = r'C:\\Users\\sakshi\\Downloads\\loan_approval_dataset.csv'\n",
    "dataset = pd.read_csv(path)\n",
    "dataset.columns = dataset.columns.str.strip()  # Remove leading/trailing spaces\n",
    "data = dataset.drop(columns=['loan_id', 'no_of_dependents', 'education', 'loan_term'])\n",
    "print(data)"
   ]
  },
  {
   "cell_type": "code",
   "execution_count": 3,
   "id": "cd1590b3-5c81-4593-b910-d0f467c35bb3",
   "metadata": {},
   "outputs": [
    {
     "name": "stdout",
     "output_type": "stream",
     "text": [
      "self_employed               0\n",
      "income_annum                0\n",
      "loan_amount                 0\n",
      "cibil_score                 0\n",
      "residential_assets_value    0\n",
      "commercial_assets_value     0\n",
      "luxury_assets_value         0\n",
      "bank_asset_value            0\n",
      "loan_status                 0\n",
      "dtype: int64\n"
     ]
    },
    {
     "data": {
      "text/plain": [
       "np.int64(0)"
      ]
     },
     "execution_count": 3,
     "metadata": {},
     "output_type": "execute_result"
    }
   ],
   "source": [
    "#check for the missing value\n",
    "print(data.isnull().sum())\n",
    "data.duplicated().sum()"
   ]
  },
  {
   "cell_type": "code",
   "execution_count": 4,
   "id": "872f4ec6-d217-45a9-be5a-455780530984",
   "metadata": {},
   "outputs": [
    {
     "name": "stdout",
     "output_type": "stream",
     "text": [
      "Index(['self_employed', 'income_annum', 'loan_amount', 'cibil_score',\n",
      "       'residential_assets_value', 'commercial_assets_value',\n",
      "       'luxury_assets_value', 'bank_asset_value', 'loan_status'],\n",
      "      dtype='object')\n"
     ]
    }
   ],
   "source": [
    "print(data.columns)"
   ]
  },
  {
   "cell_type": "code",
   "execution_count": 5,
   "id": "7e10a4c2-1c5f-48f5-87e3-047cfdf62959",
   "metadata": {},
   "outputs": [
    {
     "data": {
      "text/plain": [
       "self_employed                 2\n",
       "income_annum                 98\n",
       "loan_amount                 378\n",
       "cibil_score                 601\n",
       "residential_assets_value    278\n",
       "commercial_assets_value     188\n",
       "luxury_assets_value         379\n",
       "bank_asset_value            146\n",
       "loan_status                   2\n",
       "dtype: int64"
      ]
     },
     "execution_count": 5,
     "metadata": {},
     "output_type": "execute_result"
    }
   ],
   "source": [
    "data.nunique()"
   ]
  },
  {
   "cell_type": "code",
   "execution_count": 6,
   "id": "03fcd786-ef70-4193-8ac1-fe2d0015371b",
   "metadata": {},
   "outputs": [
    {
     "name": "stdout",
     "output_type": "stream",
     "text": [
      "self_employed               object\n",
      "income_annum                 int64\n",
      "loan_amount                  int64\n",
      "cibil_score                  int64\n",
      "residential_assets_value     int64\n",
      "commercial_assets_value      int64\n",
      "luxury_assets_value          int64\n",
      "bank_asset_value             int64\n",
      "loan_status                 object\n",
      "dtype: object\n",
      "Categorical Columns: Index(['self_employed', 'loan_status'], dtype='object')\n"
     ]
    }
   ],
   "source": [
    "# Check data types\n",
    "print(data.dtypes)\n",
    "\n",
    "# Identify categorical columns\n",
    "categorical_cols = data.select_dtypes(include=['object']).columns\n",
    "print(\"Categorical Columns:\", categorical_cols)\n"
   ]
  },
  {
   "cell_type": "code",
   "execution_count": 7,
   "id": "ba481af5-83b0-464a-8bb4-af68c3902e0b",
   "metadata": {},
   "outputs": [],
   "source": [
    "data.rename(columns = {'cibil_score' : 'credit_score'},inplace = True)"
   ]
  },
  {
   "cell_type": "code",
   "execution_count": 8,
   "id": "750876c5-19e3-4411-9731-5df0307a28a9",
   "metadata": {},
   "outputs": [],
   "source": [
    "#converting categorical data into numerical data\n",
    "from sklearn.preprocessing import LabelEncoder\n",
    "\n",
    "encoders = {}\n",
    "for col in categorical_cols:\n",
    "    encoders[col] = LabelEncoder()\n",
    "    data[col] = encoders[col].fit_transform(data[col])\n"
   ]
  },
  {
   "cell_type": "code",
   "execution_count": 9,
   "id": "d0b20fa7-900d-4299-beb5-d0ff0a4e71e7",
   "metadata": {},
   "outputs": [
    {
     "name": "stdout",
     "output_type": "stream",
     "text": [
      "<class 'pandas.core.frame.DataFrame'>\n",
      "RangeIndex: 4269 entries, 0 to 4268\n",
      "Data columns (total 9 columns):\n",
      " #   Column                    Non-Null Count  Dtype\n",
      "---  ------                    --------------  -----\n",
      " 0   self_employed             4269 non-null   int64\n",
      " 1   income_annum              4269 non-null   int64\n",
      " 2   loan_amount               4269 non-null   int64\n",
      " 3   credit_score              4269 non-null   int64\n",
      " 4   residential_assets_value  4269 non-null   int64\n",
      " 5   commercial_assets_value   4269 non-null   int64\n",
      " 6   luxury_assets_value       4269 non-null   int64\n",
      " 7   bank_asset_value          4269 non-null   int64\n",
      " 8   loan_status               4269 non-null   int64\n",
      "dtypes: int64(9)\n",
      "memory usage: 300.3 KB\n"
     ]
    }
   ],
   "source": [
    "data.info()"
   ]
  },
  {
   "cell_type": "code",
   "execution_count": 10,
   "id": "64c77b7e-6c41-40fe-b1d9-76b61fd31d1f",
   "metadata": {},
   "outputs": [],
   "source": [
    "#self_employed: No 0 and yes 1\n",
    "#loan status: Approved 0 and rejected 1"
   ]
  },
  {
   "cell_type": "code",
   "execution_count": 11,
   "id": "3d650577-71cc-46ea-9b89-72187d40eeda",
   "metadata": {},
   "outputs": [
    {
     "data": {
      "text/html": [
       "<div>\n",
       "<style scoped>\n",
       "    .dataframe tbody tr th:only-of-type {\n",
       "        vertical-align: middle;\n",
       "    }\n",
       "\n",
       "    .dataframe tbody tr th {\n",
       "        vertical-align: top;\n",
       "    }\n",
       "\n",
       "    .dataframe thead th {\n",
       "        text-align: right;\n",
       "    }\n",
       "</style>\n",
       "<table border=\"1\" class=\"dataframe\">\n",
       "  <thead>\n",
       "    <tr style=\"text-align: right;\">\n",
       "      <th></th>\n",
       "      <th>self_employed</th>\n",
       "      <th>income_annum</th>\n",
       "      <th>loan_amount</th>\n",
       "      <th>credit_score</th>\n",
       "      <th>residential_assets_value</th>\n",
       "      <th>commercial_assets_value</th>\n",
       "      <th>luxury_assets_value</th>\n",
       "      <th>bank_asset_value</th>\n",
       "      <th>loan_status</th>\n",
       "    </tr>\n",
       "  </thead>\n",
       "  <tbody>\n",
       "    <tr>\n",
       "      <th>0</th>\n",
       "      <td>0</td>\n",
       "      <td>9600000</td>\n",
       "      <td>29900000</td>\n",
       "      <td>778</td>\n",
       "      <td>2400000</td>\n",
       "      <td>17600000</td>\n",
       "      <td>22700000</td>\n",
       "      <td>8000000</td>\n",
       "      <td>0</td>\n",
       "    </tr>\n",
       "    <tr>\n",
       "      <th>1</th>\n",
       "      <td>1</td>\n",
       "      <td>4100000</td>\n",
       "      <td>12200000</td>\n",
       "      <td>417</td>\n",
       "      <td>2700000</td>\n",
       "      <td>2200000</td>\n",
       "      <td>8800000</td>\n",
       "      <td>3300000</td>\n",
       "      <td>1</td>\n",
       "    </tr>\n",
       "    <tr>\n",
       "      <th>2</th>\n",
       "      <td>0</td>\n",
       "      <td>9100000</td>\n",
       "      <td>29700000</td>\n",
       "      <td>506</td>\n",
       "      <td>7100000</td>\n",
       "      <td>4500000</td>\n",
       "      <td>33300000</td>\n",
       "      <td>12800000</td>\n",
       "      <td>1</td>\n",
       "    </tr>\n",
       "    <tr>\n",
       "      <th>3</th>\n",
       "      <td>0</td>\n",
       "      <td>8200000</td>\n",
       "      <td>30700000</td>\n",
       "      <td>467</td>\n",
       "      <td>18200000</td>\n",
       "      <td>3300000</td>\n",
       "      <td>23300000</td>\n",
       "      <td>7900000</td>\n",
       "      <td>1</td>\n",
       "    </tr>\n",
       "    <tr>\n",
       "      <th>4</th>\n",
       "      <td>1</td>\n",
       "      <td>9800000</td>\n",
       "      <td>24200000</td>\n",
       "      <td>382</td>\n",
       "      <td>12400000</td>\n",
       "      <td>8200000</td>\n",
       "      <td>29400000</td>\n",
       "      <td>5000000</td>\n",
       "      <td>1</td>\n",
       "    </tr>\n",
       "    <tr>\n",
       "      <th>...</th>\n",
       "      <td>...</td>\n",
       "      <td>...</td>\n",
       "      <td>...</td>\n",
       "      <td>...</td>\n",
       "      <td>...</td>\n",
       "      <td>...</td>\n",
       "      <td>...</td>\n",
       "      <td>...</td>\n",
       "      <td>...</td>\n",
       "    </tr>\n",
       "    <tr>\n",
       "      <th>4264</th>\n",
       "      <td>1</td>\n",
       "      <td>1000000</td>\n",
       "      <td>2300000</td>\n",
       "      <td>317</td>\n",
       "      <td>2800000</td>\n",
       "      <td>500000</td>\n",
       "      <td>3300000</td>\n",
       "      <td>800000</td>\n",
       "      <td>1</td>\n",
       "    </tr>\n",
       "    <tr>\n",
       "      <th>4265</th>\n",
       "      <td>1</td>\n",
       "      <td>3300000</td>\n",
       "      <td>11300000</td>\n",
       "      <td>559</td>\n",
       "      <td>4200000</td>\n",
       "      <td>2900000</td>\n",
       "      <td>11000000</td>\n",
       "      <td>1900000</td>\n",
       "      <td>0</td>\n",
       "    </tr>\n",
       "    <tr>\n",
       "      <th>4266</th>\n",
       "      <td>0</td>\n",
       "      <td>6500000</td>\n",
       "      <td>23900000</td>\n",
       "      <td>457</td>\n",
       "      <td>1200000</td>\n",
       "      <td>12400000</td>\n",
       "      <td>18100000</td>\n",
       "      <td>7300000</td>\n",
       "      <td>1</td>\n",
       "    </tr>\n",
       "    <tr>\n",
       "      <th>4267</th>\n",
       "      <td>0</td>\n",
       "      <td>4100000</td>\n",
       "      <td>12800000</td>\n",
       "      <td>780</td>\n",
       "      <td>8200000</td>\n",
       "      <td>700000</td>\n",
       "      <td>14100000</td>\n",
       "      <td>5800000</td>\n",
       "      <td>0</td>\n",
       "    </tr>\n",
       "    <tr>\n",
       "      <th>4268</th>\n",
       "      <td>0</td>\n",
       "      <td>9200000</td>\n",
       "      <td>29700000</td>\n",
       "      <td>607</td>\n",
       "      <td>17800000</td>\n",
       "      <td>11800000</td>\n",
       "      <td>35700000</td>\n",
       "      <td>12000000</td>\n",
       "      <td>0</td>\n",
       "    </tr>\n",
       "  </tbody>\n",
       "</table>\n",
       "<p>4269 rows × 9 columns</p>\n",
       "</div>"
      ],
      "text/plain": [
       "      self_employed  income_annum  loan_amount  credit_score  \\\n",
       "0                 0       9600000     29900000           778   \n",
       "1                 1       4100000     12200000           417   \n",
       "2                 0       9100000     29700000           506   \n",
       "3                 0       8200000     30700000           467   \n",
       "4                 1       9800000     24200000           382   \n",
       "...             ...           ...          ...           ...   \n",
       "4264              1       1000000      2300000           317   \n",
       "4265              1       3300000     11300000           559   \n",
       "4266              0       6500000     23900000           457   \n",
       "4267              0       4100000     12800000           780   \n",
       "4268              0       9200000     29700000           607   \n",
       "\n",
       "      residential_assets_value  commercial_assets_value  luxury_assets_value  \\\n",
       "0                      2400000                 17600000             22700000   \n",
       "1                      2700000                  2200000              8800000   \n",
       "2                      7100000                  4500000             33300000   \n",
       "3                     18200000                  3300000             23300000   \n",
       "4                     12400000                  8200000             29400000   \n",
       "...                        ...                      ...                  ...   \n",
       "4264                   2800000                   500000              3300000   \n",
       "4265                   4200000                  2900000             11000000   \n",
       "4266                   1200000                 12400000             18100000   \n",
       "4267                   8200000                   700000             14100000   \n",
       "4268                  17800000                 11800000             35700000   \n",
       "\n",
       "      bank_asset_value  loan_status  \n",
       "0              8000000            0  \n",
       "1              3300000            1  \n",
       "2             12800000            1  \n",
       "3              7900000            1  \n",
       "4              5000000            1  \n",
       "...                ...          ...  \n",
       "4264            800000            1  \n",
       "4265           1900000            0  \n",
       "4266           7300000            1  \n",
       "4267           5800000            0  \n",
       "4268          12000000            0  \n",
       "\n",
       "[4269 rows x 9 columns]"
      ]
     },
     "execution_count": 11,
     "metadata": {},
     "output_type": "execute_result"
    }
   ],
   "source": [
    "data"
   ]
  },
  {
   "cell_type": "code",
   "execution_count": 12,
   "id": "ff1c5f78-e8f8-4205-a972-3768181ddef1",
   "metadata": {},
   "outputs": [
    {
     "name": "stdout",
     "output_type": "stream",
     "text": [
      "[0 1]\n"
     ]
    },
    {
     "data": {
      "text/plain": [
       "loan_status\n",
       "0    0.62216\n",
       "1    0.37784\n",
       "Name: proportion, dtype: float64"
      ]
     },
     "execution_count": 12,
     "metadata": {},
     "output_type": "execute_result"
    }
   ],
   "source": [
    "print(data['loan_status'].unique())\n",
    "data['loan_status'].value_counts(normalize = True)"
   ]
  },
  {
   "cell_type": "code",
   "execution_count": 13,
   "id": "0225b639-deec-488e-a19d-ac08d92c2e55",
   "metadata": {},
   "outputs": [
    {
     "data": {
      "text/plain": [
       "self_employed\n",
       "1    0.503631\n",
       "0    0.496369\n",
       "Name: proportion, dtype: float64"
      ]
     },
     "execution_count": 13,
     "metadata": {},
     "output_type": "execute_result"
    }
   ],
   "source": [
    "data['self_employed'].value_counts(normalize = True)"
   ]
  },
  {
   "cell_type": "code",
   "execution_count": 14,
   "id": "21f297a3-90da-42bd-8345-986f0396298a",
   "metadata": {},
   "outputs": [
    {
     "data": {
      "image/png": "[encoded data removed]",
      "text/plain": [
       "<Figure size 800x600 with 2 Axes>"
      ]
     },
     "metadata": {},
     "output_type": "display_data"
    }
   ],
   "source": [
    "# visualization\n",
    "correlation_matrix = data.corr()\n",
    "\n",
    "# Plot heatmap\n",
    "plt.figure(figsize=(8, 6))\n",
    "sns.heatmap(correlation_matrix, annot=True, cmap=\"coolwarm\", fmt=\".2f\")\n",
    "plt.title(\"Feature Correlation Heatmap\")\n",
    "plt.show() #above 0.3 or below -0.3"
   ]
  },
  {
   "cell_type": "code",
   "execution_count": 15,
   "id": "dc342292-c21f-4372-8d42-6461cafe4735",
   "metadata": {},
   "outputs": [
    {
     "data": {
      "image/png": "[encoded data removed]",
      "text/plain": [
       "<Figure size 640x480 with 1 Axes>"
      ]
     },
     "metadata": {},
     "output_type": "display_data"
    }
   ],
   "source": [
    "sns.countplot(x='loan_status',data= data) \n",
    "plt.show() #loan status: Approved 0 and rejected 1"
   ]
  },
  {
   "cell_type": "code",
   "execution_count": 16,
   "id": "0a275892-9494-4c0c-8902-cd50fc0d30c8",
   "metadata": {},
   "outputs": [],
   "source": [
    "data['credit_group'] = np.where((data['credit_score'] >= 300) & (data['credit_score'] <= 500), 'low',\n",
    "    np.where((data['credit_score'] > 500) & (data['credit_score'] <= 700), 'mid', 'high'))"
   ]
  },
  {
   "cell_type": "code",
   "execution_count": 17,
   "id": "7e981bf3-755a-43a8-836d-408092e61d5f",
   "metadata": {},
   "outputs": [],
   "source": [
    "data['credit_group'] = data['credit_group'].map({'low': 0, 'mid': 1, 'high': 2})"
   ]
  },
  {
   "cell_type": "code",
   "execution_count": 18,
   "id": "676bfe0a-4f72-4f82-947e-0deda711b85b",
   "metadata": {},
   "outputs": [
    {
     "data": {
      "text/plain": [
       "credit_group\n",
       "1    1438\n",
       "2    1425\n",
       "0    1406\n",
       "Name: count, dtype: int64"
      ]
     },
     "execution_count": 18,
     "metadata": {},
     "output_type": "execute_result"
    }
   ],
   "source": [
    "data['credit_group'].value_counts()"
   ]
  },
  {
   "cell_type": "code",
   "execution_count": 19,
   "id": "51625024-5233-43c5-b88e-32c52a9f3399",
   "metadata": {},
   "outputs": [
    {
     "data": {
      "image/png": "[encoded data removed]",
      "text/plain": [
       "<Figure size 640x480 with 1 Axes>"
      ]
     },
     "metadata": {},
     "output_type": "display_data"
    }
   ],
   "source": [
    "sns.countplot(x = 'credit_group', hue='loan_status',data = data)\n",
    "plt.show()"
   ]
  },
  {
   "cell_type": "code",
   "execution_count": 20,
   "id": "07c3b838-d3c6-4902-8998-49adb00eea4e",
   "metadata": {},
   "outputs": [],
   "source": [
    "x = data.drop('loan_status',axis = 1)\n",
    "y = data['loan_status']"
   ]
  },
  {
   "cell_type": "code",
   "execution_count": 21,
   "id": "c920b498-d9e0-4c7b-8d6f-fa1310bf69f9",
   "metadata": {},
   "outputs": [
    {
     "name": "stdout",
     "output_type": "stream",
     "text": [
      "0\n"
     ]
    }
   ],
   "source": [
    "print(y.isnull().sum())"
   ]
  },
  {
   "cell_type": "code",
   "execution_count": 22,
   "id": "db927abe-45b9-4aed-8ae7-64abc11ba24c",
   "metadata": {},
   "outputs": [],
   "source": [
    "y = y.apply(lambda x: 1 if x == 'Fully paid' else 0)"
   ]
  },
  {
   "cell_type": "code",
   "execution_count": 23,
   "id": "6856b791-50be-4e07-b011-cd2884bcaa53",
   "metadata": {},
   "outputs": [],
   "source": [
    "x_train, x_test, y_train, y_test = train_test_split(x, y, test_size=0.2, random_state=42)"
   ]
  },
  {
   "cell_type": "code",
   "execution_count": 24,
   "id": "504d8d95-9d2b-4ab2-b066-050d68343d4c",
   "metadata": {},
   "outputs": [
    {
     "name": "stdout",
     "output_type": "stream",
     "text": [
      "Index(['self_employed', 'income_annum', 'loan_amount', 'credit_score',\n",
      "       'residential_assets_value', 'commercial_assets_value',\n",
      "       'luxury_assets_value', 'bank_asset_value', 'loan_status',\n",
      "       'credit_group'],\n",
      "      dtype='object')\n"
     ]
    }
   ],
   "source": [
    "print(data.columns)  # This will give you all the feature names used for training"
   ]
  },
  {
   "cell_type": "code",
   "execution_count": 25,
   "id": "d338022f-7ffc-4dd4-8169-6950bb66880a",
   "metadata": {},
   "outputs": [
    {
     "name": "stdout",
     "output_type": "stream",
     "text": [
      "Best n_estimators: 50\n"
     ]
    }
   ],
   "source": [
    "#finding best n_estimator value \n",
    "\n",
    "from sklearn.ensemble import RandomForestClassifier\n",
    "from sklearn.model_selection import GridSearchCV\n",
    "\n",
    "# Define parameter grid\n",
    "param_grid = {'n_estimators': [50, 100, 150, 200, 300, 500]}\n",
    "\n",
    "# Initialize model\n",
    "rf = RandomForestClassifier()\n",
    "\n",
    "# Perform Grid Search\n",
    "grid_search = GridSearchCV(rf, param_grid, cv=5, scoring='accuracy', n_jobs=-1)\n",
    "grid_search.fit(x_train, y_train)\n",
    "\n",
    "# Print best n_estimators value\n",
    "print(\"Best n_estimators:\", grid_search.best_params_['n_estimators'])\n"
   ]
  },
  {
   "cell_type": "code",
   "execution_count": 26,
   "id": "1fbc5a16-6d29-46b1-afdd-4de49cb8148a",
   "metadata": {},
   "outputs": [
    {
     "name": "stdout",
     "output_type": "stream",
     "text": [
      "Random Forest Accuracy: 1.00\n"
     ]
    }
   ],
   "source": [
    "#trainig model with random forest classifier \n",
    "\n",
    "from sklearn.metrics import accuracy_score\n",
    "# Train Random Forest\n",
    "rf_model = RandomForestClassifier(n_estimators=50)\n",
    "rf_model.fit(x_train, y_train)\n",
    "\n",
    "\n",
    "# Predict\n",
    "rf_pred = rf_model.predict(x_test)\n",
    "\n",
    "# Evaluate\n",
    "rf_accuracy = accuracy_score(y_test, rf_pred)\n",
    "print(f\"Random Forest Accuracy: {rf_accuracy:.2f}\")\n"
   ]
  },
  {
   "cell_type": "code",
   "execution_count": 27,
   "id": "9388802b-bf06-403b-b2f3-a7cc4bec509f",
   "metadata": {},
   "outputs": [
    {
     "name": "stdout",
     "output_type": "stream",
     "text": [
      "(854, 9)\n"
     ]
    }
   ],
   "source": [
    "print(x_test.shape)  # This should output (number_of_rows, 9) now"
   ]
  },
  {
   "cell_type": "code",
   "execution_count": 28,
   "id": "cfe24f79-2af0-4a8e-94c2-bd53490c25f5",
   "metadata": {},
   "outputs": [
    {
     "name": "stdout",
     "output_type": "stream",
     "text": [
      "Model saved as 'loan_model.pkl'\n"
     ]
    }
   ],
   "source": [
    "import pickle\n",
    "\n",
    "# Save the trained model\n",
    "with open(\"loan_model.pkl\", \"wb\") as file:\n",
    "    pickle.dump(rf_model, file)\n",
    "\n",
    "print(\"Model saved as 'loan_model.pkl'\")\n"
   ]
  },
  {
   "cell_type": "code",
   "execution_count": 29,
   "id": "23c8c3a4-8658-4bb9-a116-78674db18a4e",
   "metadata": {},
   "outputs": [
    {
     "name": "stdout",
     "output_type": "stream",
     "text": [
      "Overwriting loan_app.py\n"
     ]
    }
   ],
   "source": [
    "%%writefile loan_app.py\n",
    "\n",
    "import streamlit as st\n",
    "import numpy as np\n",
    "import pickle\n",
    "\n",
    "# Load the trained model\n",
    "model = pickle.load(open(\"loan_model.pkl\", \"rb\"))\n",
    "\n",
    "st.title(\"AI-Based Loan Approval System 🚀\")\n",
    "\n",
    "# Collecting user inputs\n",
    "credit_score = st.number_input(\"Enter Credit Score\", min_value=300, max_value=850, step=1)\n",
    "income = st.number_input(\"Enter Annual Income ($)\", min_value=1000, step=1000)\n",
    "loan_amount = st.number_input(\"Enter Loan Amount ($)\", min_value=1000, step=1000)\n",
    "dti = st.number_input(\"Debt-to-Income Ratio (%)\", min_value=0.0, max_value=100.0, step=0.1)\n",
    "\n",
    "# Additional 4 Features (Ensure they match the trained model)\n",
    "employment_length = st.number_input(\"Employment Length (Years)\", min_value=0, step=1)\n",
    "home_ownership = st.selectbox(\"Home Ownership\", [\"Rent\", \"Mortgage\", \"Own\"])\n",
    "purpose = st.selectbox(\"Loan Purpose\", [\"Debt Consolidation\", \"Credit Card\", \"Home Improvement\"])\n",
    "loan_term = st.selectbox(\"Loan Term\", [\"36 months\", \"60 months\"])\n",
    "\n",
    "# Convert categorical variables to numerical values\n",
    "home_ownership_map = {\"Rent\": 0, \"Mortgage\": 1, \"Own\": 2}\n",
    "purpose_map = {\"Debt Consolidation\": 0, \"Credit Card\": 1, \"Home Improvement\": 2}\n",
    "loan_term_map = {\"36 months\": 0, \"60 months\": 1}\n",
    "\n",
    "# Creating the final input array\n",
    "input_data = np.array([[credit_score, income, loan_amount, dti,\n",
    "                        employment_length, home_ownership_map[home_ownership],\n",
    "                        purpose_map[purpose], loan_term_map[loan_term]]])\n",
    "\n",
    "# Risk Analysis Function\n",
    "def risk_analysis(credit_score, dti):\n",
    "    if credit_score > 700 and dti < 20:\n",
    "        return \"Low Risk\"\n",
    "    elif 600 <= credit_score <= 700 and 20 <= dti <= 35:\n",
    "        return \"Medium Risk\"\n",
    "    else:\n",
    "        return \"High Risk\"\n",
    "\n",
    "# Prediction Button\n",
    "if st.button(\"Check Loan Approval\"):\n",
    "    if credit_score > 700 and dti < 20:\n",
    "        decision = \"✅ loan accepted\"\n",
    "    else:\n",
    "        decision = \"❌ loan rejected\"\n",
    "\n",
    "    st.success(f\"Loan Application status: {decision}\")\n",
    "\n",
    "    # Risk Level\n",
    "    risk = risk_analysis(credit_score, dti)\n",
    "    st.write(f\"📊 Risk Level: **{risk}**\")\n"
   ]
  },
  {
   "cell_type": "code",
   "execution_count": 30,
   "id": "f1c85456-77ff-4947-9d34-55c0c81988a3",
   "metadata": {},
   "outputs": [
    {
     "name": "stdout",
     "output_type": "stream",
     "text": [
      "C:\\Juputer Notebook\n",
      "['.ipynb_checkpoints', 'AI_loan_approval_guide.ipynb', 'house_price_model.pkl', 'House_price_prediction.ipynb', 'house_price_prediction_app', 'Iris_flower_classification.ipynb', 'iris_model.pkl', 'loan_app.py', 'loan_model.pkl', 'path_to_extract', 'seaborn.ipynb']\n"
     ]
    }
   ],
   "source": [
    "import os\n",
    "print(os.getcwd())  # Shows the directory where loan_app.py is saved\n",
    "print(os.listdir())  # Lists all files in the current directory\n"
   ]
  },
  {
   "cell_type": "code",
   "execution_count": 31,
   "id": "58827888-cdc0-43e3-87df-2d3a60f62447",
   "metadata": {},
   "outputs": [],
   "source": [
    "#use these 2 steps in the cmd\n",
    "#1 cd C:\\Juputer Notebook\n",
    "#2 streamlit run loan_app.py"
   ]
  },
  {
   "cell_type": "code",
   "execution_count": null,
   "id": "51c88022-2f2d-471f-9d1c-4477cf81f8e2",
   "metadata": {},
   "outputs": [],
   "source": []
  },
  {
   "cell_type": "code",
   "execution_count": null,
   "id": "80853b70-daa2-435e-9ce1-507183b951ae",
   "metadata": {},
   "outputs": [],
   "source": []
  }
 ],
 "metadata": {
  "kernelspec": {
   "display_name": "Python 3 (ipykernel)",
   "language": "python",
   "name": "python3"
  },
  "language_info": {
   "codemirror_mode": {
    "name": "ipython",
    "version": 3
   },
   "file_extension": ".py",
   "mimetype": "text/x-python",
   "name": "python",
   "nbconvert_exporter": "python",
   "pygments_lexer": "ipython3",
   "version": "3.13.0"
  }
 },
 "nbformat": 4,
 "nbformat_minor": 5
}
