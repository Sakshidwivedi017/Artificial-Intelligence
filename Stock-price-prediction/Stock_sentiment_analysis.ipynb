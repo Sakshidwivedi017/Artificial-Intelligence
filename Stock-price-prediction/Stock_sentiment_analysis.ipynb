{
 "cells": [
  {
   "cell_type": "code",
   "execution_count": 28,
   "id": "7e911830-b938-4a98-8de4-650eb61aa461",
   "metadata": {},
   "outputs": [],
   "source": [
    "import requests\n",
    "from bs4 import BeautifulSoup\n",
    "from newspaper import Article\n",
    "from transformers import BertTokenizer, BertForSequenceClassification\n",
    "import torch\n",
    "import praw\n",
    "from datetime import datetime, timedelta\n",
    "import yfinance as yf"
   ]
  },
  {
   "cell_type": "code",
   "execution_count": 2,
   "id": "450a37fc-c2e3-4280-b9f4-3a97d5317ea8",
   "metadata": {},
   "outputs": [],
   "source": [
    "tokenizer = BertTokenizer.from_pretrained(\"yiyanghkust/finbert-tone\")\n",
    "model = BertForSequenceClassification.from_pretrained(\"yiyanghkust/finbert-tone\")"
   ]
  },
  {
   "cell_type": "code",
   "execution_count": 19,
   "id": "e7d7df0b-0c8d-4ad7-9aa0-3b65e677fe33",
   "metadata": {},
   "outputs": [],
   "source": [
    "def analyze_sentiment(text):\n",
    "    inputs = tokenizer(text, return_tensors=\"pt\", truncation=True, padding=True, max_length=512)\n",
    "    outputs = model(**inputs)\n",
    "    probs = torch.nn.functional.softmax(outputs.logits, dim=-1)\n",
    "    sentiment = torch.argmax(probs).item()\n",
    "    return ['Negative', 'Neutral', 'Positive'][sentiment]"
   ]
  },
  {
   "cell_type": "code",
   "execution_count": 20,
   "id": "745d06f4-2b01-429f-978b-487e02c137e5",
   "metadata": {},
   "outputs": [],
   "source": [
    "def fetch_news(stock_name):\n",
    "    print(\"\\n🔍 Fetching News Articles...\")\n",
    "    url = f\"https://news.google.com/search?q={stock_name}%20stock&hl=en-IN&gl=IN&ceid=IN:en\"\n",
    "    res = requests.get(url)\n",
    "    soup = BeautifulSoup(res.text, \"html.parser\")\n",
    "    links = soup.select(\"a.DY5T1d\")\n",
    "    \n",
    "    news_texts = []\n",
    "    for link in links[:3]:  # Limit to top 3\n",
    "        article_url = \"https://news.google.com\" + link[\"href\"][1:]\n",
    "        article = Article(article_url)\n",
    "        try:\n",
    "            article.download()\n",
    "            article.parse()\n",
    "            news_texts.append(article.text)\n",
    "        except:\n",
    "            continue\n",
    "    return news_texts"
   ]
  },
  {
   "cell_type": "code",
   "execution_count": 21,
   "id": "bc4f7ef7-6901-4995-9d35-550a1f9ab0d5",
   "metadata": {},
   "outputs": [],
   "source": [
    "def fetch_reddit(stock_name):\n",
    "    print(\"🔍 Fetching Reddit Posts...\")\n",
    "    reddit = praw.Reddit(client_id=\"Your_client_id\",\n",
    "                         client_secret=\"your_secret_id\",\n",
    "                         user_agent=\"stock-sentiment-script\")\n",
    "    posts = []\n",
    "    for post in reddit.subreddit(\"stocks\").search(stock_name, limit=3):\n",
    "        posts.append(post.title + \" \" + post.selftext)\n",
    "    return posts"
   ]
  },
  {
   "cell_type": "code",
   "execution_count": 29,
   "id": "328e2aca-d9b3-4c84-b963-1b34b576a08b",
   "metadata": {},
   "outputs": [],
   "source": [
    "def summarize_and_analyze(texts):\n",
    "    combined_text = \" \".join(texts)\n",
    "    summary = combined_text[:500] + \"...\"  # Simple summary\n",
    "    sentiment = analyze_sentiment(summary)\n",
    "    return summary, sentiment"
   ]
  },
  {
   "cell_type": "code",
   "execution_count": 30,
   "id": "2688f82b-87bd-4cac-8b71-8e5b7e530fe1",
   "metadata": {},
   "outputs": [],
   "source": [
    "def is_valid_stock(stock_name):\n",
    "    try:\n",
    "        stock = yf.Ticker(stock_name)\n",
    "        hist = stock.history(period=\"1d\")\n",
    "        return not hist.empty\n",
    "    except:\n",
    "        return False"
   ]
  },
  {
   "cell_type": "code",
   "execution_count": 31,
   "id": "3eb46987-1bb8-4221-9bee-1f6f02c8696c",
   "metadata": {},
   "outputs": [
    {
     "name": "stdin",
     "output_type": "stream",
     "text": [
      "Enter the stock name or symbol:  aapl\n"
     ]
    },
    {
     "name": "stdout",
     "output_type": "stream",
     "text": [
      "\n",
      "🔍 Fetching News Articles...\n",
      "🔍 Fetching Reddit Posts...\n",
      "\n",
      "📄 Summarized Sentiment News:\n",
      "Should I cash out AAPL or hold? As the title says -- -I have about 1200 shares, purchased about 15 years ago. Waffling on whether to cash out now before the 50% additional tariffs become a reality or hold until some future date when things return to \"normal\". Are you worried about AAPL long term?  Now I’m not saying to sell all of your Apple stock immediately. However, given that:\n",
      "\n",
      "1. The Vision Pro was a dud, they’re pulling back manufacturing/production\n",
      "\n",
      "2. iPhone sales are down almost 10%\n",
      "\n",
      "3....\n",
      "\n",
      "📊 Sentiment Analysis Result:\n",
      "✅ The stock price might go UP.\n"
     ]
    }
   ],
   "source": [
    "def main():\n",
    "    stock_name = input(\"Enter the stock name or symbol: \").upper()\n",
    "\n",
    "    if not is_valid_stock(stock_name):\n",
    "        print(\"❌ It is not a valid stock name.\")\n",
    "        return\n",
    "\n",
    "    news = fetch_news(stock_name)\n",
    "    reddit = fetch_reddit(stock_name)\n",
    "\n",
    "    all_texts = news + reddit \n",
    "    if not all_texts:\n",
    "        print(\"❌ No data found for the given stock.\")\n",
    "        return\n",
    "\n",
    "    print(\"\\n📄 Summarized Sentiment News:\")\n",
    "    summary, sentiment = summarize_and_analyze(all_texts)\n",
    "    print(summary)\n",
    "\n",
    "    print(\"\\n📊 Sentiment Analysis Result:\")\n",
    "    if sentiment == 'Positive':\n",
    "        print(\"✅ The stock price might go UP.\")\n",
    "    elif sentiment == 'Negative':\n",
    "        print(\"⚠️ The stock price might go DOWN.\")\n",
    "    else:\n",
    "        print(\"🤔 Can't say anything now, check the technical analysis.\")\n",
    "\n",
    "if __name__ == \"__main__\":\n",
    "    main()"
   ]
  },
  {
   "cell_type": "code",
   "execution_count": null,
   "id": "420484e0-8559-4431-a355-a5b12faad856",
   "metadata": {},
   "outputs": [],
   "source": []
  }
 ],
 "metadata": {
  "kernelspec": {
   "display_name": "Python 3 (ipykernel)",
   "language": "python",
   "name": "python3"
  },
  "language_info": {
   "codemirror_mode": {
    "name": "ipython",
    "version": 3
   },
   "file_extension": ".py",
   "mimetype": "text/x-python",
   "name": "python",
   "nbconvert_exporter": "python",
   "pygments_lexer": "ipython3",
   "version": "3.11.9"
  }
 },
 "nbformat": 4,
 "nbformat_minor": 5
}
